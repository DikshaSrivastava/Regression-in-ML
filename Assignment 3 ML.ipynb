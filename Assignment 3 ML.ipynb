{
 "cells": [
  {
   "cell_type": "code",
   "execution_count": 18,
   "metadata": {},
   "outputs": [],
   "source": [
    "import numpy as np\n",
    "import matplotlib.pyplot as plt\n",
    "import pandas as pd\n",
    "from sklearn.model_selection import train_test_split\n"
   ]
  },
  {
   "cell_type": "code",
   "execution_count": 19,
   "metadata": {},
   "outputs": [],
   "source": [
    "# Data pre-processing.\n",
    "data = pd.read_csv('Assignment3.csv')\n",
    "X = data.iloc[:, 1:].values\n",
    "y = data.iloc[:, :1].values\n"
   ]
  },
  {
   "cell_type": "code",
   "execution_count": 21,
   "metadata": {},
   "outputs": [],
   "source": [
    "# One hot encoding\n",
    "from sklearn.compose import ColumnTransformer\n",
    "from sklearn.preprocessing import OneHotEncoder\n",
    "ct = ColumnTransformer(transformers=[('encoder', OneHotEncoder(), [7])], remainder='passthrough')\n",
    "X = np.array(ct.fit_transform(X))\n",
    "\n",
    "ct1 = ColumnTransformer(transformers=[('encoder', OneHotEncoder(), [8])], remainder='passthrough')\n",
    "X = np.array(ct1.fit_transform(X))\n",
    "\n",
    "ct2 = ColumnTransformer(transformers=[('encoder', OneHotEncoder(), [10])], remainder='passthrough')\n",
    "X = np.array(ct2.fit_transform(X))\n",
    "\n",
    "ct3 = ColumnTransformer(transformers=[('encoder', OneHotEncoder(), [11])], remainder='passthrough')\n",
    "X = np.array(ct3.fit_transform(X))"
   ]
  },
  {
   "cell_type": "code",
   "execution_count": 22,
   "metadata": {},
   "outputs": [
    {
     "name": "stdout",
     "output_type": "stream",
     "text": [
      "[[1.0 0.0 1.0 ... 'no' 'ground' 'central']\n",
      " [1.0 0.0 1.0 ... 'no' 'ground' 'central']\n",
      " [1.0 0.0 1.0 ... 'no' 'ground' 'central']\n",
      " ...\n",
      " [1.0 0.0 1.0 ... 'yes' 'ground' 'central']\n",
      " [1.0 0.0 1.0 ... 'no' 'ground' 'electric']\n",
      " [1.0 0.0 1.0 ... 'no' 'ground' 'central']]\n"
     ]
    }
   ],
   "source": [
    "print(X)"
   ]
  },
  {
   "cell_type": "code",
   "execution_count": null,
   "metadata": {},
   "outputs": [],
   "source": [
    "# Splitting the data\n",
    "X_train, X_test, y_train, y_test = train_test_split(X, y, test_size=1 / 3)\n",
    "print(X_train)\n",
    "print(X_test)\n",
    "print(y_train)\n",
    "print(y_test)"
   ]
  }
 ],
 "metadata": {
  "kernelspec": {
   "display_name": "Python 3",
   "language": "python",
   "name": "python3"
  },
  "language_info": {
   "codemirror_mode": {
    "name": "ipython",
    "version": 3
   },
   "file_extension": ".py",
   "mimetype": "text/x-python",
   "name": "python",
   "nbconvert_exporter": "python",
   "pygments_lexer": "ipython3",
   "version": "3.8.3"
  }
 },
 "nbformat": 4,
 "nbformat_minor": 4
}
